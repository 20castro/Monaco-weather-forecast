{
 "cells": [
  {
   "cell_type": "markdown",
   "metadata": {},
   "source": [
    "# Visualisation des données ECMWF"
   ]
  },
  {
   "cell_type": "markdown",
   "metadata": {},
   "source": [
    "## Prise en main"
   ]
  },
  {
   "cell_type": "code",
   "execution_count": 1,
   "metadata": {},
   "outputs": [],
   "source": [
    "import netCDF4 as nc\n",
    "import pandas as pd\n",
    "import numpy as np\n",
    "import matplotlib.pyplot as plt\n",
    "%matplotlib inline"
   ]
  },
  {
   "cell_type": "code",
   "execution_count": 2,
   "metadata": {},
   "outputs": [],
   "source": [
    "file = '../Data/ECMWF/ECMWF_Monaco_20180501.nc'"
   ]
  },
  {
   "cell_type": "markdown",
   "metadata": {},
   "source": [
    "### Metadata"
   ]
  },
  {
   "cell_type": "code",
   "execution_count": 3,
   "metadata": {},
   "outputs": [
    {
     "name": "stdout",
     "output_type": "stream",
     "text": [
      "<class 'netCDF4._netCDF4.Dataset'>\n",
      "root group (NETCDF3_64BIT_OFFSET data model, file format NETCDF3):\n",
      "    Conventions: CF-1.6\n",
      "    history: 2022-01-17 07:43:46 GMT by grib_to_netcdf-2.24.0: grib_to_netcdf /data/scratch/20220117-0730/5d/_mars-webmars-private-svc-green-001-6fe5cac1a363ec1525f54343b6cc9fd8-H5Y3be.grib -o /data/scratch/20220117-0740/33/_grib2netcdf-webmars-private-svc-green-010-6fe5cac1a363ec1525f54343b6cc9fd8-cahvIL.nc -utime\n",
      "    dimensions(sizes): longitude(33), latitude(33), time(25)\n",
      "    variables(dimensions): float32 longitude(longitude), float32 latitude(latitude), int32 time(time), int16 shww(time, latitude, longitude), int16 mpww(time, latitude, longitude), int16 wind(time, latitude, longitude), int16 dwi(time, latitude, longitude), float64 ssrd(time, latitude, longitude), float64 t2m(time, latitude, longitude)\n",
      "    groups: \n"
     ]
    }
   ],
   "source": [
    "ds = nc.Dataset(file)\n",
    "print(ds)"
   ]
  },
  {
   "cell_type": "code",
   "execution_count": 4,
   "metadata": {},
   "outputs": [
    {
     "name": "stdout",
     "output_type": "stream",
     "text": [
      "{'Conventions': 'CF-1.6', 'history': '2022-01-17 07:43:46 GMT by grib_to_netcdf-2.24.0: grib_to_netcdf /data/scratch/20220117-0730/5d/_mars-webmars-private-svc-green-001-6fe5cac1a363ec1525f54343b6cc9fd8-H5Y3be.grib -o /data/scratch/20220117-0740/33/_grib2netcdf-webmars-private-svc-green-010-6fe5cac1a363ec1525f54343b6cc9fd8-cahvIL.nc -utime'}\n"
     ]
    }
   ],
   "source": [
    "d = ds.__dict__\n",
    "print(d)"
   ]
  },
  {
   "cell_type": "markdown",
   "metadata": {},
   "source": [
    "### Dimensions"
   ]
  },
  {
   "cell_type": "code",
   "execution_count": 5,
   "metadata": {},
   "outputs": [
    {
     "name": "stdout",
     "output_type": "stream",
     "text": [
      "{'longitude': <class 'netCDF4._netCDF4.Dimension'>: name = 'longitude', size = 33, 'latitude': <class 'netCDF4._netCDF4.Dimension'>: name = 'latitude', size = 33, 'time': <class 'netCDF4._netCDF4.Dimension'> (unlimited): name = 'time', size = 25}\n"
     ]
    }
   ],
   "source": [
    "print(ds.dimensions)"
   ]
  },
  {
   "cell_type": "code",
   "execution_count": 6,
   "metadata": {},
   "outputs": [
    {
     "name": "stdout",
     "output_type": "stream",
     "text": [
      "<class 'netCDF4._netCDF4.Dimension'>: name = 'longitude', size = 33 <-- longitude\n",
      "<class 'netCDF4._netCDF4.Dimension'>: name = 'latitude', size = 33 <-- latitude\n",
      "<class 'netCDF4._netCDF4.Dimension'> (unlimited): name = 'time', size = 25 <-- time\n"
     ]
    }
   ],
   "source": [
    "for v in ds.dimensions.values():\n",
    "    print(v, end=' <-- ')\n",
    "    print(v.name)"
   ]
  },
  {
   "cell_type": "markdown",
   "metadata": {},
   "source": [
    "### Variables"
   ]
  },
  {
   "cell_type": "code",
   "execution_count": 7,
   "metadata": {},
   "outputs": [
    {
     "name": "stdout",
     "output_type": "stream",
     "text": [
      "<class 'netCDF4._netCDF4.Variable'>\n",
      "float32 longitude(longitude)\n",
      "    units: degrees_east\n",
      "    long_name: longitude\n",
      "unlimited dimensions: \n",
      "current shape = (33,)\n",
      "filling on, default _FillValue of 9.969209968386869e+36 used\n"
     ]
    }
   ],
   "source": [
    "print(list(ds.variables.values())[0])"
   ]
  },
  {
   "cell_type": "code",
   "execution_count": 8,
   "metadata": {},
   "outputs": [
    {
     "name": "stdout",
     "output_type": "stream",
     "text": [
      "<class 'netCDF4._netCDF4.Variable'>\n",
      "float32 latitude(latitude)\n",
      "    units: degrees_north\n",
      "    long_name: latitude\n",
      "unlimited dimensions: \n",
      "current shape = (33,)\n",
      "filling on, default _FillValue of 9.969209968386869e+36 used\n"
     ]
    }
   ],
   "source": [
    "print(list(ds.variables.values())[1])"
   ]
  },
  {
   "cell_type": "code",
   "execution_count": 9,
   "metadata": {},
   "outputs": [
    {
     "name": "stdout",
     "output_type": "stream",
     "text": [
      "longitude                                                      [arg of shape 33]\n",
      "latitude                                                       [arg of shape 33]\n",
      "time                                                           [arg of shape 25]\n",
      "shww ('time', 'latitude', 'longitude')                                   [value]\n",
      "mpww ('time', 'latitude', 'longitude')                                   [value]\n",
      "wind ('time', 'latitude', 'longitude')                                   [value]\n",
      "dwi ('time', 'latitude', 'longitude')                                    [value]\n",
      "ssrd ('time', 'latitude', 'longitude')                                   [value]\n",
      "t2m ('time', 'latitude', 'longitude')                                    [value]\n",
      "________________________________________________________________________________\n",
      "time       : Hours since 01/01/1900\n",
      "longitude  : Degrees East\n",
      "latitude   : Degress North\n",
      "shww       : Signficant height of wind waves\n",
      "mpww       : Mean period of wind waves\n",
      "wind       : 10m wind speed\n",
      "dwi        : 10m wind direction\n"
     ]
    }
   ],
   "source": [
    "for v in ds.variables.values():\n",
    "    totalLen = 80\n",
    "    dim = v.dimensions\n",
    "    if len(dim) == 1 and dim[0] == v.name:\n",
    "        typestr = f'[arg of shape {ds[v.name][:].size}]'\n",
    "        spaces = ' '*(totalLen - len(typestr) - len(v.name))\n",
    "        print(v.name + spaces + typestr)\n",
    "    else:\n",
    "        valuestr = f'{v.name} {dim}'\n",
    "        spaces = ' '*(totalLen - 7 - len(valuestr))\n",
    "        print(valuestr + spaces + '[value]')\n",
    "print(totalLen*'_')\n",
    "print('time       : Hours since 01/01/1900')\n",
    "print('longitude  : Degrees East')\n",
    "print('latitude   : Degrees North')\n",
    "print('shww       : Signficant height of wind waves')\n",
    "print('mpww       : Mean period of wind waves')\n",
    "print('wind       : 10m wind speed')\n",
    "print('dwi        : 10m wind direction')"
   ]
  },
  {
   "cell_type": "code",
   "execution_count": 29,
   "metadata": {},
   "outputs": [
    {
     "data": {
      "text/plain": [
       "masked_array(data=[46.   , 45.875, 45.75 , 45.625, 45.5  , 45.375, 45.25 ,\n",
       "                   45.125, 45.   , 44.875, 44.75 , 44.625, 44.5  , 44.375,\n",
       "                   44.25 , 44.125, 44.   , 43.875, 43.75 , 43.625, 43.5  ,\n",
       "                   43.375, 43.25 , 43.125, 43.   , 42.875, 42.75 , 42.625,\n",
       "                   42.5  , 42.375, 42.25 , 42.125, 42.   ],\n",
       "             mask=False,\n",
       "       fill_value=1e+20,\n",
       "            dtype=float32)"
      ]
     },
     "execution_count": 29,
     "metadata": {},
     "output_type": "execute_result"
    }
   ],
   "source": [
    "ds['latitude'][:]"
   ]
  },
  {
   "cell_type": "code",
   "execution_count": 30,
   "metadata": {},
   "outputs": [
    {
     "data": {
      "text/plain": [
       "masked_array(data=[5.5  , 5.625, 5.75 , 5.875, 6.   , 6.125, 6.25 , 6.375,\n",
       "                   6.5  , 6.625, 6.75 , 6.875, 7.   , 7.125, 7.25 , 7.375,\n",
       "                   7.5  , 7.625, 7.75 , 7.875, 8.   , 8.125, 8.25 , 8.375,\n",
       "                   8.5  , 8.625, 8.75 , 8.875, 9.   , 9.125, 9.25 , 9.375,\n",
       "                   9.5  ],\n",
       "             mask=False,\n",
       "       fill_value=1e+20,\n",
       "            dtype=float32)"
      ]
     },
     "execution_count": 30,
     "metadata": {},
     "output_type": "execute_result"
    }
   ],
   "source": [
    "ds['longitude'][:]"
   ]
  },
  {
   "cell_type": "markdown",
   "metadata": {},
   "source": [
    "### Data values"
   ]
  },
  {
   "cell_type": "code",
   "execution_count": 10,
   "metadata": {},
   "outputs": [
    {
     "name": "stdout",
     "output_type": "stream",
     "text": [
      "<class 'numpy.ma.core.MaskedArray'>\n",
      "(25, 33, 33)\n"
     ]
    }
   ],
   "source": [
    "print(type(ds['wind'][:]))\n",
    "print(ds['wind'][:].shape)"
   ]
  },
  {
   "cell_type": "code",
   "execution_count": 11,
   "metadata": {},
   "outputs": [
    {
     "data": {
      "text/plain": [
       "masked_array(\n",
       "  data=[[--, --, --, --, --],\n",
       "        [--, --, --, --, 3.28227234096276],\n",
       "        [1.5078243618673044, 4.17194407004391, 6.268514571737713,\n",
       "         6.268514571737713, 7.615260863026548],\n",
       "        [6.797389493592446, 7.167487711045867, 7.220195702332222,\n",
       "         7.219216606518853, 7.219216606518853],\n",
       "        [6.54739369591227, 6.54739369591227, 6.787598535458758,\n",
       "         7.12799751323999, 7.12799751323999]],\n",
       "  mask=[[ True,  True,  True,  True,  True],\n",
       "        [ True,  True,  True,  True, False],\n",
       "        [False, False, False, False, False],\n",
       "        [False, False, False, False, False],\n",
       "        [False, False, False, False, False]],\n",
       "  fill_value=-32767)"
      ]
     },
     "execution_count": 11,
     "metadata": {},
     "output_type": "execute_result"
    }
   ],
   "source": [
    "ds['wind'][0, 16:21, 16:21]"
   ]
  },
  {
   "cell_type": "code",
   "execution_count": 12,
   "metadata": {},
   "outputs": [
    {
     "name": "stdout",
     "output_type": "stream",
     "text": [
      "[[       nan        nan        nan        nan        nan]\n",
      " [       nan        nan        nan        nan 3.28227234]\n",
      " [1.50782436 4.17194407 6.26851457 6.26851457 7.61526086]\n",
      " [6.79738949 7.16748771 7.2201957  7.21921661 7.21921661]\n",
      " [6.5473937  6.5473937  6.78759854 7.12799751 7.12799751]]\n"
     ]
    }
   ],
   "source": [
    "wind = ds['wind'][0, :, :]\n",
    "windData = wind.data\n",
    "windData[wind.mask] = np.nan\n",
    "print(windData[16:21, 16:21])"
   ]
  },
  {
   "cell_type": "markdown",
   "metadata": {},
   "source": [
    "## Mise en forme"
   ]
  },
  {
   "cell_type": "code",
   "execution_count": 13,
   "metadata": {},
   "outputs": [],
   "source": [
    "def reprStrTuple(t):\n",
    "    res = '('\n",
    "    l = len(t)\n",
    "    for k, s in enumerate(t):\n",
    "        res += s\n",
    "        if k < l - 1:\n",
    "            res += ', '\n",
    "        else:\n",
    "            res += ')'\n",
    "    return res"
   ]
  },
  {
   "cell_type": "code",
   "execution_count": 14,
   "metadata": {},
   "outputs": [],
   "source": [
    "class GeoTimeSeries:\n",
    "\n",
    "    def __init__(self, path):\n",
    "        ds = nc.Dataset(path)\n",
    "        self.arg = {}\n",
    "        self.values = {}\n",
    "        for v in ds.variables.values():\n",
    "            dim = v.dimensions\n",
    "            name = v.name\n",
    "            if len(dim) == 1 and dim[0] == v.name:\n",
    "                self.arg[name] = ds[name][:].size\n",
    "            else:\n",
    "                self.values[name] = dim\n",
    "        self.dataset = ds\n",
    "\n",
    "    def __repr__(self):\n",
    "        res = ''\n",
    "        totalLen = 80\n",
    "        for key, value in self.arg.items():\n",
    "            typestr = f'[arg of shape {value}]'\n",
    "            spaces = ' '*(totalLen - len(typestr) - len(key))\n",
    "            res += key + spaces + typestr + '\\n'\n",
    "        res += \"=\"*totalLen + '\\n'\n",
    "        for key, value in self.values.items():\n",
    "            valuestr = key + ' ' + reprStrTuple(dim)\n",
    "            spaces = ' '*(totalLen - 7 - len(valuestr))\n",
    "            res += valuestr + spaces + '[value]' + '\\n'        \n",
    "        return res\n",
    "\n",
    "    def geoLoc(self):\n",
    "        monacoLoc = (43 + 43/60 + 50/3600, 7 + 25/60 + 31/3600)\n",
    "        long = self.dataset['longitude'][:].data\n",
    "        lat = self.dataset['latitude'][:].data\n",
    "        geoTab = np.meshgrid(lat, long)\n",
    "        plt.figure()\n",
    "        plt.scatter(geoTab[1].flat, geoTab[0].flat, s=3, c='tab:red', label='Measurements')\n",
    "        plt.scatter([monacoLoc[1]], [monacoLoc[0]], marker='+', c='tab:blue', s=40, label='Monaco')\n",
    "        plt.xlabel('Longitude')\n",
    "        plt.ylabel('Latitude')\n",
    "        plt.legend()\n",
    "        plt.show()"
   ]
  },
  {
   "cell_type": "code",
   "execution_count": 15,
   "metadata": {},
   "outputs": [
    {
     "name": "stdout",
     "output_type": "stream",
     "text": [
      "longitude                                                      [arg of shape 33]\n",
      "latitude                                                       [arg of shape 33]\n",
      "time                                                           [arg of shape 25]\n",
      "================================================================================\n",
      "shww (time, latitude, longitude)                                         [value]\n",
      "mpww (time, latitude, longitude)                                         [value]\n",
      "wind (time, latitude, longitude)                                         [value]\n",
      "dwi (time, latitude, longitude)                                          [value]\n",
      "ssrd (time, latitude, longitude)                                         [value]\n",
      "t2m (time, latitude, longitude)                                          [value]\n",
      "\n"
     ]
    },
    {
     "data": {
      "image/png": "[encoded data removed]",
      "text/plain": [
       "<Figure size 432x288 with 1 Axes>"
      ]
     },
     "metadata": {
      "needs_background": "light"
     },
     "output_type": "display_data"
    }
   ],
   "source": [
    "# Test\n",
    "\n",
    "instance = GeoTimeSeries('../Data/ECMWF/ECMWF_Monaco_20180501.nc')\n",
    "print(instance)\n",
    "instance.geoLoc()"
   ]
  },
  {
   "cell_type": "markdown",
   "metadata": {},
   "source": [
    "### Représentation en séries temporelles"
   ]
  },
  {
   "cell_type": "code",
   "execution_count": 16,
   "metadata": {},
   "outputs": [],
   "source": [
    "class TimeSeries(GeoTimeSeries):\n",
    "\n",
    "    def __init__(self, path):\n",
    "        super().__init__(path)\n",
    "        dfs = []\n",
    "        t = self.dataset['time'][:]\n",
    "        lo = self.dataset['longitude'][:]\n",
    "        la = self.dataset['latitude'][:]\n",
    "        for name in self.values.keys():\n",
    "            header = [f'{name}:lat_{i}:long_{j}' for i in la[::-1] for j in lo]\n",
    "            df = pd.DataFrame(\n",
    "                data=self.dataset[name][:, ::-1, :].reshape(t.size, lo.size*la.size),\n",
    "                index=t.data,\n",
    "                columns=header)\n",
    "            dfs.append(df)\n",
    "        self.df = pd.concat(dfs, axis=1)\n",
    "\n",
    "    def plotSeries(self, featName, lat, long):\n",
    "        assert 42 <= lat <= 46 and 5.5 <= long <= 9.5\n",
    "        la = .125*np.round(lat/.125)\n",
    "        lo = .125*np.round(long/.125)\n",
    "        plt.plot(self.df.index, self.df[featName + f':lat_{la}:long_{lo}'])\n",
    "        plt.xlabel('Time')\n",
    "        plt.ylabel(featName)"
   ]
  },
  {
   "cell_type": "code",
   "execution_count": 17,
   "metadata": {},
   "outputs": [
    {
     "data": {
      "text/html": [
       "<div>\n",
       "<style scoped>\n",
       "    .dataframe tbody tr th:only-of-type {\n",
       "        vertical-align: middle;\n",
       "    }\n",
       "\n",
       "    .dataframe tbody tr th {\n",
       "        vertical-align: top;\n",
       "    }\n",
       "\n",
       "    .dataframe thead th {\n",
       "        text-align: right;\n",
       "    }\n",
       "</style>\n",
       "<table border=\"1\" class=\"dataframe\">\n",
       "  <thead>\n",
       "    <tr style=\"text-align: right;\">\n",
       "      <th></th>\n",
       "      <th>shww:lat_42.0:long_5.5</th>\n",
       "      <th>shww:lat_42.0:long_5.625</th>\n",
       "      <th>shww:lat_42.0:long_5.75</th>\n",
       "      <th>shww:lat_42.0:long_5.875</th>\n",
       "      <th>shww:lat_42.0:long_6.0</th>\n",
       "      <th>shww:lat_42.0:long_6.125</th>\n",
       "      <th>shww:lat_42.0:long_6.25</th>\n",
       "      <th>shww:lat_42.0:long_6.375</th>\n",
       "      <th>shww:lat_42.0:long_6.5</th>\n",
       "      <th>shww:lat_42.0:long_6.625</th>\n",
       "      <th>...</th>\n",
       "      <th>dwi:lat_46.0:long_8.375</th>\n",
       "      <th>dwi:lat_46.0:long_8.5</th>\n",
       "      <th>dwi:lat_46.0:long_8.625</th>\n",
       "      <th>dwi:lat_46.0:long_8.75</th>\n",
       "      <th>dwi:lat_46.0:long_8.875</th>\n",
       "      <th>dwi:lat_46.0:long_9.0</th>\n",
       "      <th>dwi:lat_46.0:long_9.125</th>\n",
       "      <th>dwi:lat_46.0:long_9.25</th>\n",
       "      <th>dwi:lat_46.0:long_9.375</th>\n",
       "      <th>dwi:lat_46.0:long_9.5</th>\n",
       "    </tr>\n",
       "  </thead>\n",
       "  <tbody>\n",
       "    <tr>\n",
       "      <th>1054824</th>\n",
       "      <td>1.377320</td>\n",
       "      <td>1.414155</td>\n",
       "      <td>1.464202</td>\n",
       "      <td>1.487825</td>\n",
       "      <td>1.485304</td>\n",
       "      <td>1.475920</td>\n",
       "      <td>1.462288</td>\n",
       "      <td>1.445014</td>\n",
       "      <td>1.426713</td>\n",
       "      <td>1.412194</td>\n",
       "      <td>...</td>\n",
       "      <td>NaN</td>\n",
       "      <td>NaN</td>\n",
       "      <td>NaN</td>\n",
       "      <td>NaN</td>\n",
       "      <td>NaN</td>\n",
       "      <td>NaN</td>\n",
       "      <td>NaN</td>\n",
       "      <td>NaN</td>\n",
       "      <td>NaN</td>\n",
       "      <td>NaN</td>\n",
       "    </tr>\n",
       "    <tr>\n",
       "      <th>1054825</th>\n",
       "      <td>1.674661</td>\n",
       "      <td>1.638199</td>\n",
       "      <td>1.581616</td>\n",
       "      <td>1.498516</td>\n",
       "      <td>1.430728</td>\n",
       "      <td>1.389785</td>\n",
       "      <td>1.379514</td>\n",
       "      <td>1.408739</td>\n",
       "      <td>1.422465</td>\n",
       "      <td>1.452577</td>\n",
       "      <td>...</td>\n",
       "      <td>NaN</td>\n",
       "      <td>NaN</td>\n",
       "      <td>NaN</td>\n",
       "      <td>NaN</td>\n",
       "      <td>NaN</td>\n",
       "      <td>NaN</td>\n",
       "      <td>NaN</td>\n",
       "      <td>NaN</td>\n",
       "      <td>NaN</td>\n",
       "      <td>NaN</td>\n",
       "    </tr>\n",
       "    <tr>\n",
       "      <th>1054826</th>\n",
       "      <td>1.814624</td>\n",
       "      <td>1.781104</td>\n",
       "      <td>1.727416</td>\n",
       "      <td>1.646696</td>\n",
       "      <td>1.537779</td>\n",
       "      <td>1.446742</td>\n",
       "      <td>1.385537</td>\n",
       "      <td>1.372838</td>\n",
       "      <td>1.402390</td>\n",
       "      <td>1.433063</td>\n",
       "      <td>...</td>\n",
       "      <td>NaN</td>\n",
       "      <td>NaN</td>\n",
       "      <td>NaN</td>\n",
       "      <td>NaN</td>\n",
       "      <td>NaN</td>\n",
       "      <td>NaN</td>\n",
       "      <td>NaN</td>\n",
       "      <td>NaN</td>\n",
       "      <td>NaN</td>\n",
       "      <td>NaN</td>\n",
       "    </tr>\n",
       "    <tr>\n",
       "      <th>1054827</th>\n",
       "      <td>1.865418</td>\n",
       "      <td>1.875362</td>\n",
       "      <td>1.872748</td>\n",
       "      <td>1.836473</td>\n",
       "      <td>1.748237</td>\n",
       "      <td>1.657294</td>\n",
       "      <td>1.572746</td>\n",
       "      <td>1.502951</td>\n",
       "      <td>1.483390</td>\n",
       "      <td>1.506593</td>\n",
       "      <td>...</td>\n",
       "      <td>NaN</td>\n",
       "      <td>NaN</td>\n",
       "      <td>NaN</td>\n",
       "      <td>NaN</td>\n",
       "      <td>NaN</td>\n",
       "      <td>NaN</td>\n",
       "      <td>NaN</td>\n",
       "      <td>NaN</td>\n",
       "      <td>NaN</td>\n",
       "      <td>NaN</td>\n",
       "    </tr>\n",
       "    <tr>\n",
       "      <th>1054828</th>\n",
       "      <td>1.904681</td>\n",
       "      <td>1.895764</td>\n",
       "      <td>1.879517</td>\n",
       "      <td>1.865885</td>\n",
       "      <td>1.823775</td>\n",
       "      <td>1.766118</td>\n",
       "      <td>1.703139</td>\n",
       "      <td>1.658134</td>\n",
       "      <td>1.634745</td>\n",
       "      <td>1.625874</td>\n",
       "      <td>...</td>\n",
       "      <td>NaN</td>\n",
       "      <td>NaN</td>\n",
       "      <td>NaN</td>\n",
       "      <td>NaN</td>\n",
       "      <td>NaN</td>\n",
       "      <td>NaN</td>\n",
       "      <td>NaN</td>\n",
       "      <td>NaN</td>\n",
       "      <td>NaN</td>\n",
       "      <td>NaN</td>\n",
       "    </tr>\n",
       "    <tr>\n",
       "      <th>1054829</th>\n",
       "      <td>2.254076</td>\n",
       "      <td>2.239744</td>\n",
       "      <td>2.215561</td>\n",
       "      <td>2.181480</td>\n",
       "      <td>2.051041</td>\n",
       "      <td>1.957716</td>\n",
       "      <td>1.907902</td>\n",
       "      <td>1.874522</td>\n",
       "      <td>1.863784</td>\n",
       "      <td>1.865792</td>\n",
       "      <td>...</td>\n",
       "      <td>NaN</td>\n",
       "      <td>NaN</td>\n",
       "      <td>NaN</td>\n",
       "      <td>NaN</td>\n",
       "      <td>NaN</td>\n",
       "      <td>NaN</td>\n",
       "      <td>NaN</td>\n",
       "      <td>NaN</td>\n",
       "      <td>NaN</td>\n",
       "      <td>NaN</td>\n",
       "    </tr>\n",
       "    <tr>\n",
       "      <th>1054830</th>\n",
       "      <td>2.288157</td>\n",
       "      <td>2.293339</td>\n",
       "      <td>2.269669</td>\n",
       "      <td>2.169669</td>\n",
       "      <td>2.128492</td>\n",
       "      <td>2.099920</td>\n",
       "      <td>2.078678</td>\n",
       "      <td>2.067240</td>\n",
       "      <td>2.051134</td>\n",
       "      <td>2.042497</td>\n",
       "      <td>...</td>\n",
       "      <td>NaN</td>\n",
       "      <td>NaN</td>\n",
       "      <td>NaN</td>\n",
       "      <td>NaN</td>\n",
       "      <td>NaN</td>\n",
       "      <td>NaN</td>\n",
       "      <td>NaN</td>\n",
       "      <td>NaN</td>\n",
       "      <td>NaN</td>\n",
       "      <td>NaN</td>\n",
       "    </tr>\n",
       "    <tr>\n",
       "      <th>1054831</th>\n",
       "      <td>2.132507</td>\n",
       "      <td>2.094925</td>\n",
       "      <td>2.079425</td>\n",
       "      <td>2.072703</td>\n",
       "      <td>2.059304</td>\n",
       "      <td>2.057483</td>\n",
       "      <td>2.070182</td>\n",
       "      <td>2.100481</td>\n",
       "      <td>2.120789</td>\n",
       "      <td>2.132460</td>\n",
       "      <td>...</td>\n",
       "      <td>NaN</td>\n",
       "      <td>NaN</td>\n",
       "      <td>NaN</td>\n",
       "      <td>NaN</td>\n",
       "      <td>NaN</td>\n",
       "      <td>NaN</td>\n",
       "      <td>NaN</td>\n",
       "      <td>NaN</td>\n",
       "      <td>NaN</td>\n",
       "      <td>NaN</td>\n",
       "    </tr>\n",
       "    <tr>\n",
       "      <th>1054832</th>\n",
       "      <td>1.967100</td>\n",
       "      <td>1.932132</td>\n",
       "      <td>1.888855</td>\n",
       "      <td>1.867566</td>\n",
       "      <td>1.881758</td>\n",
       "      <td>1.903327</td>\n",
       "      <td>1.932319</td>\n",
       "      <td>1.980125</td>\n",
       "      <td>2.017147</td>\n",
       "      <td>2.058884</td>\n",
       "      <td>...</td>\n",
       "      <td>NaN</td>\n",
       "      <td>NaN</td>\n",
       "      <td>NaN</td>\n",
       "      <td>NaN</td>\n",
       "      <td>NaN</td>\n",
       "      <td>NaN</td>\n",
       "      <td>NaN</td>\n",
       "      <td>NaN</td>\n",
       "      <td>NaN</td>\n",
       "      <td>NaN</td>\n",
       "    </tr>\n",
       "    <tr>\n",
       "      <th>1054833</th>\n",
       "      <td>1.743055</td>\n",
       "      <td>1.717051</td>\n",
       "      <td>1.693102</td>\n",
       "      <td>1.666304</td>\n",
       "      <td>1.699171</td>\n",
       "      <td>1.754353</td>\n",
       "      <td>1.819340</td>\n",
       "      <td>1.873402</td>\n",
       "      <td>1.903280</td>\n",
       "      <td>1.924616</td>\n",
       "      <td>...</td>\n",
       "      <td>NaN</td>\n",
       "      <td>NaN</td>\n",
       "      <td>NaN</td>\n",
       "      <td>NaN</td>\n",
       "      <td>NaN</td>\n",
       "      <td>NaN</td>\n",
       "      <td>NaN</td>\n",
       "      <td>NaN</td>\n",
       "      <td>NaN</td>\n",
       "      <td>NaN</td>\n",
       "    </tr>\n",
       "    <tr>\n",
       "      <th>1054834</th>\n",
       "      <td>1.522606</td>\n",
       "      <td>1.450570</td>\n",
       "      <td>1.398982</td>\n",
       "      <td>1.505332</td>\n",
       "      <td>1.547442</td>\n",
       "      <td>1.610468</td>\n",
       "      <td>1.692728</td>\n",
       "      <td>1.760422</td>\n",
       "      <td>1.774335</td>\n",
       "      <td>1.768686</td>\n",
       "      <td>...</td>\n",
       "      <td>NaN</td>\n",
       "      <td>NaN</td>\n",
       "      <td>NaN</td>\n",
       "      <td>NaN</td>\n",
       "      <td>NaN</td>\n",
       "      <td>NaN</td>\n",
       "      <td>NaN</td>\n",
       "      <td>NaN</td>\n",
       "      <td>NaN</td>\n",
       "      <td>NaN</td>\n",
       "    </tr>\n",
       "    <tr>\n",
       "      <th>1054835</th>\n",
       "      <td>1.587405</td>\n",
       "      <td>1.550944</td>\n",
       "      <td>1.508973</td>\n",
       "      <td>1.513922</td>\n",
       "      <td>1.497909</td>\n",
       "      <td>1.496648</td>\n",
       "      <td>1.511401</td>\n",
       "      <td>1.534791</td>\n",
       "      <td>1.583577</td>\n",
       "      <td>1.642401</td>\n",
       "      <td>...</td>\n",
       "      <td>NaN</td>\n",
       "      <td>NaN</td>\n",
       "      <td>NaN</td>\n",
       "      <td>NaN</td>\n",
       "      <td>NaN</td>\n",
       "      <td>NaN</td>\n",
       "      <td>NaN</td>\n",
       "      <td>NaN</td>\n",
       "      <td>NaN</td>\n",
       "      <td>NaN</td>\n",
       "    </tr>\n",
       "    <tr>\n",
       "      <th>1054836</th>\n",
       "      <td>1.449029</td>\n",
       "      <td>1.427554</td>\n",
       "      <td>1.406639</td>\n",
       "      <td>1.444314</td>\n",
       "      <td>1.431942</td>\n",
       "      <td>1.426993</td>\n",
       "      <td>1.438478</td>\n",
       "      <td>1.472279</td>\n",
       "      <td>1.502578</td>\n",
       "      <td>1.570925</td>\n",
       "      <td>...</td>\n",
       "      <td>NaN</td>\n",
       "      <td>NaN</td>\n",
       "      <td>NaN</td>\n",
       "      <td>NaN</td>\n",
       "      <td>NaN</td>\n",
       "      <td>NaN</td>\n",
       "      <td>NaN</td>\n",
       "      <td>NaN</td>\n",
       "      <td>NaN</td>\n",
       "      <td>NaN</td>\n",
       "    </tr>\n",
       "    <tr>\n",
       "      <th>1054837</th>\n",
       "      <td>1.369990</td>\n",
       "      <td>1.347955</td>\n",
       "      <td>1.342352</td>\n",
       "      <td>1.364341</td>\n",
       "      <td>1.415696</td>\n",
       "      <td>1.455565</td>\n",
       "      <td>1.475033</td>\n",
       "      <td>1.462895</td>\n",
       "      <td>1.483110</td>\n",
       "      <td>1.550617</td>\n",
       "      <td>...</td>\n",
       "      <td>NaN</td>\n",
       "      <td>NaN</td>\n",
       "      <td>NaN</td>\n",
       "      <td>NaN</td>\n",
       "      <td>NaN</td>\n",
       "      <td>NaN</td>\n",
       "      <td>NaN</td>\n",
       "      <td>NaN</td>\n",
       "      <td>NaN</td>\n",
       "      <td>NaN</td>\n",
       "    </tr>\n",
       "    <tr>\n",
       "      <th>1054838</th>\n",
       "      <td>1.417890</td>\n",
       "      <td>1.422792</td>\n",
       "      <td>1.409720</td>\n",
       "      <td>1.390859</td>\n",
       "      <td>1.403044</td>\n",
       "      <td>1.431942</td>\n",
       "      <td>1.467750</td>\n",
       "      <td>1.489739</td>\n",
       "      <td>1.523773</td>\n",
       "      <td>1.566630</td>\n",
       "      <td>...</td>\n",
       "      <td>NaN</td>\n",
       "      <td>NaN</td>\n",
       "      <td>NaN</td>\n",
       "      <td>NaN</td>\n",
       "      <td>NaN</td>\n",
       "      <td>NaN</td>\n",
       "      <td>NaN</td>\n",
       "      <td>NaN</td>\n",
       "      <td>NaN</td>\n",
       "      <td>NaN</td>\n",
       "    </tr>\n",
       "    <tr>\n",
       "      <th>1054839</th>\n",
       "      <td>1.379841</td>\n",
       "      <td>1.447068</td>\n",
       "      <td>1.481802</td>\n",
       "      <td>1.491326</td>\n",
       "      <td>1.471858</td>\n",
       "      <td>1.463828</td>\n",
       "      <td>1.470645</td>\n",
       "      <td>1.488759</td>\n",
       "      <td>1.514949</td>\n",
       "      <td>1.573960</td>\n",
       "      <td>...</td>\n",
       "      <td>NaN</td>\n",
       "      <td>NaN</td>\n",
       "      <td>NaN</td>\n",
       "      <td>NaN</td>\n",
       "      <td>NaN</td>\n",
       "      <td>NaN</td>\n",
       "      <td>NaN</td>\n",
       "      <td>NaN</td>\n",
       "      <td>NaN</td>\n",
       "      <td>NaN</td>\n",
       "    </tr>\n",
       "    <tr>\n",
       "      <th>1054840</th>\n",
       "      <td>1.353464</td>\n",
       "      <td>1.445014</td>\n",
       "      <td>1.503838</td>\n",
       "      <td>1.546182</td>\n",
       "      <td>1.580636</td>\n",
       "      <td>1.594221</td>\n",
       "      <td>1.591560</td>\n",
       "      <td>1.588993</td>\n",
       "      <td>1.570972</td>\n",
       "      <td>1.583484</td>\n",
       "      <td>...</td>\n",
       "      <td>NaN</td>\n",
       "      <td>NaN</td>\n",
       "      <td>NaN</td>\n",
       "      <td>NaN</td>\n",
       "      <td>NaN</td>\n",
       "      <td>NaN</td>\n",
       "      <td>NaN</td>\n",
       "      <td>NaN</td>\n",
       "      <td>NaN</td>\n",
       "      <td>NaN</td>\n",
       "    </tr>\n",
       "    <tr>\n",
       "      <th>1054841</th>\n",
       "      <td>1.314808</td>\n",
       "      <td>1.418590</td>\n",
       "      <td>1.492447</td>\n",
       "      <td>1.572746</td>\n",
       "      <td>1.646369</td>\n",
       "      <td>1.695856</td>\n",
       "      <td>1.721113</td>\n",
       "      <td>1.726015</td>\n",
       "      <td>1.720226</td>\n",
       "      <td>1.716444</td>\n",
       "      <td>...</td>\n",
       "      <td>NaN</td>\n",
       "      <td>NaN</td>\n",
       "      <td>NaN</td>\n",
       "      <td>NaN</td>\n",
       "      <td>NaN</td>\n",
       "      <td>NaN</td>\n",
       "      <td>NaN</td>\n",
       "      <td>NaN</td>\n",
       "      <td>NaN</td>\n",
       "      <td>NaN</td>\n",
       "    </tr>\n",
       "    <tr>\n",
       "      <th>1054842</th>\n",
       "      <td>1.252809</td>\n",
       "      <td>1.363454</td>\n",
       "      <td>1.456826</td>\n",
       "      <td>1.550104</td>\n",
       "      <td>1.646836</td>\n",
       "      <td>1.726622</td>\n",
       "      <td>1.785866</td>\n",
       "      <td>1.820507</td>\n",
       "      <td>1.830918</td>\n",
       "      <td>1.832505</td>\n",
       "      <td>...</td>\n",
       "      <td>NaN</td>\n",
       "      <td>NaN</td>\n",
       "      <td>NaN</td>\n",
       "      <td>NaN</td>\n",
       "      <td>NaN</td>\n",
       "      <td>NaN</td>\n",
       "      <td>NaN</td>\n",
       "      <td>NaN</td>\n",
       "      <td>NaN</td>\n",
       "      <td>NaN</td>\n",
       "    </tr>\n",
       "    <tr>\n",
       "      <th>1054843</th>\n",
       "      <td>1.211352</td>\n",
       "      <td>1.329234</td>\n",
       "      <td>1.433249</td>\n",
       "      <td>1.526854</td>\n",
       "      <td>1.625688</td>\n",
       "      <td>1.712476</td>\n",
       "      <td>1.783859</td>\n",
       "      <td>1.835306</td>\n",
       "      <td>1.873402</td>\n",
       "      <td>1.889648</td>\n",
       "      <td>...</td>\n",
       "      <td>NaN</td>\n",
       "      <td>NaN</td>\n",
       "      <td>NaN</td>\n",
       "      <td>NaN</td>\n",
       "      <td>NaN</td>\n",
       "      <td>NaN</td>\n",
       "      <td>NaN</td>\n",
       "      <td>NaN</td>\n",
       "      <td>NaN</td>\n",
       "      <td>NaN</td>\n",
       "    </tr>\n",
       "    <tr>\n",
       "      <th>1054844</th>\n",
       "      <td>1.268309</td>\n",
       "      <td>1.343566</td>\n",
       "      <td>1.421158</td>\n",
       "      <td>1.499636</td>\n",
       "      <td>1.591794</td>\n",
       "      <td>1.676995</td>\n",
       "      <td>1.754400</td>\n",
       "      <td>1.828817</td>\n",
       "      <td>1.854494</td>\n",
       "      <td>1.877277</td>\n",
       "      <td>...</td>\n",
       "      <td>NaN</td>\n",
       "      <td>NaN</td>\n",
       "      <td>NaN</td>\n",
       "      <td>NaN</td>\n",
       "      <td>NaN</td>\n",
       "      <td>NaN</td>\n",
       "      <td>NaN</td>\n",
       "      <td>NaN</td>\n",
       "      <td>NaN</td>\n",
       "      <td>NaN</td>\n",
       "    </tr>\n",
       "    <tr>\n",
       "      <th>1054845</th>\n",
       "      <td>1.309346</td>\n",
       "      <td>1.368636</td>\n",
       "      <td>1.431942</td>\n",
       "      <td>1.484884</td>\n",
       "      <td>1.554119</td>\n",
       "      <td>1.634138</td>\n",
       "      <td>1.718545</td>\n",
       "      <td>1.792402</td>\n",
       "      <td>1.834699</td>\n",
       "      <td>1.869620</td>\n",
       "      <td>...</td>\n",
       "      <td>NaN</td>\n",
       "      <td>NaN</td>\n",
       "      <td>NaN</td>\n",
       "      <td>NaN</td>\n",
       "      <td>NaN</td>\n",
       "      <td>NaN</td>\n",
       "      <td>NaN</td>\n",
       "      <td>NaN</td>\n",
       "      <td>NaN</td>\n",
       "      <td>NaN</td>\n",
       "    </tr>\n",
       "    <tr>\n",
       "      <th>1054846</th>\n",
       "      <td>1.335630</td>\n",
       "      <td>1.393333</td>\n",
       "      <td>1.451130</td>\n",
       "      <td>1.493100</td>\n",
       "      <td>1.551504</td>\n",
       "      <td>1.617237</td>\n",
       "      <td>1.705520</td>\n",
       "      <td>1.864018</td>\n",
       "      <td>1.928818</td>\n",
       "      <td>1.971488</td>\n",
       "      <td>...</td>\n",
       "      <td>NaN</td>\n",
       "      <td>NaN</td>\n",
       "      <td>NaN</td>\n",
       "      <td>NaN</td>\n",
       "      <td>NaN</td>\n",
       "      <td>NaN</td>\n",
       "      <td>NaN</td>\n",
       "      <td>NaN</td>\n",
       "      <td>NaN</td>\n",
       "      <td>NaN</td>\n",
       "    </tr>\n",
       "    <tr>\n",
       "      <th>1054847</th>\n",
       "      <td>1.450150</td>\n",
       "      <td>1.488292</td>\n",
       "      <td>1.530402</td>\n",
       "      <td>1.567984</td>\n",
       "      <td>1.615603</td>\n",
       "      <td>1.707948</td>\n",
       "      <td>1.824288</td>\n",
       "      <td>1.895811</td>\n",
       "      <td>1.952534</td>\n",
       "      <td>1.999453</td>\n",
       "      <td>...</td>\n",
       "      <td>NaN</td>\n",
       "      <td>NaN</td>\n",
       "      <td>NaN</td>\n",
       "      <td>NaN</td>\n",
       "      <td>NaN</td>\n",
       "      <td>NaN</td>\n",
       "      <td>NaN</td>\n",
       "      <td>NaN</td>\n",
       "      <td>NaN</td>\n",
       "      <td>NaN</td>\n",
       "    </tr>\n",
       "    <tr>\n",
       "      <th>1054848</th>\n",
       "      <td>1.707481</td>\n",
       "      <td>1.734699</td>\n",
       "      <td>1.760702</td>\n",
       "      <td>1.785539</td>\n",
       "      <td>1.819620</td>\n",
       "      <td>1.862617</td>\n",
       "      <td>1.913224</td>\n",
       "      <td>1.968547</td>\n",
       "      <td>2.014346</td>\n",
       "      <td>2.057623</td>\n",
       "      <td>...</td>\n",
       "      <td>NaN</td>\n",
       "      <td>NaN</td>\n",
       "      <td>NaN</td>\n",
       "      <td>NaN</td>\n",
       "      <td>NaN</td>\n",
       "      <td>NaN</td>\n",
       "      <td>NaN</td>\n",
       "      <td>NaN</td>\n",
       "      <td>NaN</td>\n",
       "      <td>NaN</td>\n",
       "    </tr>\n",
       "  </tbody>\n",
       "</table>\n",
       "<p>25 rows × 4356 columns</p>\n",
       "</div>"
      ],
      "text/plain": [
       "         shww:lat_42.0:long_5.5  shww:lat_42.0:long_5.625  \\\n",
       "1054824                1.377320                  1.414155   \n",
       "1054825                1.674661                  1.638199   \n",
       "1054826                1.814624                  1.781104   \n",
       "1054827                1.865418                  1.875362   \n",
       "1054828                1.904681                  1.895764   \n",
       "1054829                2.254076                  2.239744   \n",
       "1054830                2.288157                  2.293339   \n",
       "1054831                2.132507                  2.094925   \n",
       "1054832                1.967100                  1.932132   \n",
       "1054833                1.743055                  1.717051   \n",
       "1054834                1.522606                  1.450570   \n",
       "1054835                1.587405                  1.550944   \n",
       "1054836                1.449029                  1.427554   \n",
       "1054837                1.369990                  1.347955   \n",
       "1054838                1.417890                  1.422792   \n",
       "1054839                1.379841                  1.447068   \n",
       "1054840                1.353464                  1.445014   \n",
       "1054841                1.314808                  1.418590   \n",
       "1054842                1.252809                  1.363454   \n",
       "1054843                1.211352                  1.329234   \n",
       "1054844                1.268309                  1.343566   \n",
       "1054845                1.309346                  1.368636   \n",
       "1054846                1.335630                  1.393333   \n",
       "1054847                1.450150                  1.488292   \n",
       "1054848                1.707481                  1.734699   \n",
       "\n",
       "         shww:lat_42.0:long_5.75  shww:lat_42.0:long_5.875  \\\n",
       "1054824                 1.464202                  1.487825   \n",
       "1054825                 1.581616                  1.498516   \n",
       "1054826                 1.727416                  1.646696   \n",
       "1054827                 1.872748                  1.836473   \n",
       "1054828                 1.879517                  1.865885   \n",
       "1054829                 2.215561                  2.181480   \n",
       "1054830                 2.269669                  2.169669   \n",
       "1054831                 2.079425                  2.072703   \n",
       "1054832                 1.888855                  1.867566   \n",
       "1054833                 1.693102                  1.666304   \n",
       "1054834                 1.398982                  1.505332   \n",
       "1054835                 1.508973                  1.513922   \n",
       "1054836                 1.406639                  1.444314   \n",
       "1054837                 1.342352                  1.364341   \n",
       "1054838                 1.409720                  1.390859   \n",
       "1054839                 1.481802                  1.491326   \n",
       "1054840                 1.503838                  1.546182   \n",
       "1054841                 1.492447                  1.572746   \n",
       "1054842                 1.456826                  1.550104   \n",
       "1054843                 1.433249                  1.526854   \n",
       "1054844                 1.421158                  1.499636   \n",
       "1054845                 1.431942                  1.484884   \n",
       "1054846                 1.451130                  1.493100   \n",
       "1054847                 1.530402                  1.567984   \n",
       "1054848                 1.760702                  1.785539   \n",
       "\n",
       "         shww:lat_42.0:long_6.0  shww:lat_42.0:long_6.125  \\\n",
       "1054824                1.485304                  1.475920   \n",
       "1054825                1.430728                  1.389785   \n",
       "1054826                1.537779                  1.446742   \n",
       "1054827                1.748237                  1.657294   \n",
       "1054828                1.823775                  1.766118   \n",
       "1054829                2.051041                  1.957716   \n",
       "1054830                2.128492                  2.099920   \n",
       "1054831                2.059304                  2.057483   \n",
       "1054832                1.881758                  1.903327   \n",
       "1054833                1.699171                  1.754353   \n",
       "1054834                1.547442                  1.610468   \n",
       "1054835                1.497909                  1.496648   \n",
       "1054836                1.431942                  1.426993   \n",
       "1054837                1.415696                  1.455565   \n",
       "1054838                1.403044                  1.431942   \n",
       "1054839                1.471858                  1.463828   \n",
       "1054840                1.580636                  1.594221   \n",
       "1054841                1.646369                  1.695856   \n",
       "1054842                1.646836                  1.726622   \n",
       "1054843                1.625688                  1.712476   \n",
       "1054844                1.591794                  1.676995   \n",
       "1054845                1.554119                  1.634138   \n",
       "1054846                1.551504                  1.617237   \n",
       "1054847                1.615603                  1.707948   \n",
       "1054848                1.819620                  1.862617   \n",
       "\n",
       "         shww:lat_42.0:long_6.25  shww:lat_42.0:long_6.375  \\\n",
       "1054824                 1.462288                  1.445014   \n",
       "1054825                 1.379514                  1.408739   \n",
       "1054826                 1.385537                  1.372838   \n",
       "1054827                 1.572746                  1.502951   \n",
       "1054828                 1.703139                  1.658134   \n",
       "1054829                 1.907902                  1.874522   \n",
       "1054830                 2.078678                  2.067240   \n",
       "1054831                 2.070182                  2.100481   \n",
       "1054832                 1.932319                  1.980125   \n",
       "1054833                 1.819340                  1.873402   \n",
       "1054834                 1.692728                  1.760422   \n",
       "1054835                 1.511401                  1.534791   \n",
       "1054836                 1.438478                  1.472279   \n",
       "1054837                 1.475033                  1.462895   \n",
       "1054838                 1.467750                  1.489739   \n",
       "1054839                 1.470645                  1.488759   \n",
       "1054840                 1.591560                  1.588993   \n",
       "1054841                 1.721113                  1.726015   \n",
       "1054842                 1.785866                  1.820507   \n",
       "1054843                 1.783859                  1.835306   \n",
       "1054844                 1.754400                  1.828817   \n",
       "1054845                 1.718545                  1.792402   \n",
       "1054846                 1.705520                  1.864018   \n",
       "1054847                 1.824288                  1.895811   \n",
       "1054848                 1.913224                  1.968547   \n",
       "\n",
       "         shww:lat_42.0:long_6.5  shww:lat_42.0:long_6.625  ...  \\\n",
       "1054824                1.426713                  1.412194  ...   \n",
       "1054825                1.422465                  1.452577  ...   \n",
       "1054826                1.402390                  1.433063  ...   \n",
       "1054827                1.483390                  1.506593  ...   \n",
       "1054828                1.634745                  1.625874  ...   \n",
       "1054829                1.863784                  1.865792  ...   \n",
       "1054830                2.051134                  2.042497  ...   \n",
       "1054831                2.120789                  2.132460  ...   \n",
       "1054832                2.017147                  2.058884  ...   \n",
       "1054833                1.903280                  1.924616  ...   \n",
       "1054834                1.774335                  1.768686  ...   \n",
       "1054835                1.583577                  1.642401  ...   \n",
       "1054836                1.502578                  1.570925  ...   \n",
       "1054837                1.483110                  1.550617  ...   \n",
       "1054838                1.523773                  1.566630  ...   \n",
       "1054839                1.514949                  1.573960  ...   \n",
       "1054840                1.570972                  1.583484  ...   \n",
       "1054841                1.720226                  1.716444  ...   \n",
       "1054842                1.830918                  1.832505  ...   \n",
       "1054843                1.873402                  1.889648  ...   \n",
       "1054844                1.854494                  1.877277  ...   \n",
       "1054845                1.834699                  1.869620  ...   \n",
       "1054846                1.928818                  1.971488  ...   \n",
       "1054847                1.952534                  1.999453  ...   \n",
       "1054848                2.014346                  2.057623  ...   \n",
       "\n",
       "         dwi:lat_46.0:long_8.375  dwi:lat_46.0:long_8.5  \\\n",
       "1054824                      NaN                    NaN   \n",
       "1054825                      NaN                    NaN   \n",
       "1054826                      NaN                    NaN   \n",
       "1054827                      NaN                    NaN   \n",
       "1054828                      NaN                    NaN   \n",
       "1054829                      NaN                    NaN   \n",
       "1054830                      NaN                    NaN   \n",
       "1054831                      NaN                    NaN   \n",
       "1054832                      NaN                    NaN   \n",
       "1054833                      NaN                    NaN   \n",
       "1054834                      NaN                    NaN   \n",
       "1054835                      NaN                    NaN   \n",
       "1054836                      NaN                    NaN   \n",
       "1054837                      NaN                    NaN   \n",
       "1054838                      NaN                    NaN   \n",
       "1054839                      NaN                    NaN   \n",
       "1054840                      NaN                    NaN   \n",
       "1054841                      NaN                    NaN   \n",
       "1054842                      NaN                    NaN   \n",
       "1054843                      NaN                    NaN   \n",
       "1054844                      NaN                    NaN   \n",
       "1054845                      NaN                    NaN   \n",
       "1054846                      NaN                    NaN   \n",
       "1054847                      NaN                    NaN   \n",
       "1054848                      NaN                    NaN   \n",
       "\n",
       "         dwi:lat_46.0:long_8.625  dwi:lat_46.0:long_8.75  \\\n",
       "1054824                      NaN                     NaN   \n",
       "1054825                      NaN                     NaN   \n",
       "1054826                      NaN                     NaN   \n",
       "1054827                      NaN                     NaN   \n",
       "1054828                      NaN                     NaN   \n",
       "1054829                      NaN                     NaN   \n",
       "1054830                      NaN                     NaN   \n",
       "1054831                      NaN                     NaN   \n",
       "1054832                      NaN                     NaN   \n",
       "1054833                      NaN                     NaN   \n",
       "1054834                      NaN                     NaN   \n",
       "1054835                      NaN                     NaN   \n",
       "1054836                      NaN                     NaN   \n",
       "1054837                      NaN                     NaN   \n",
       "1054838                      NaN                     NaN   \n",
       "1054839                      NaN                     NaN   \n",
       "1054840                      NaN                     NaN   \n",
       "1054841                      NaN                     NaN   \n",
       "1054842                      NaN                     NaN   \n",
       "1054843                      NaN                     NaN   \n",
       "1054844                      NaN                     NaN   \n",
       "1054845                      NaN                     NaN   \n",
       "1054846                      NaN                     NaN   \n",
       "1054847                      NaN                     NaN   \n",
       "1054848                      NaN                     NaN   \n",
       "\n",
       "         dwi:lat_46.0:long_8.875  dwi:lat_46.0:long_9.0  \\\n",
       "1054824                      NaN                    NaN   \n",
       "1054825                      NaN                    NaN   \n",
       "1054826                      NaN                    NaN   \n",
       "1054827                      NaN                    NaN   \n",
       "1054828                      NaN                    NaN   \n",
       "1054829                      NaN                    NaN   \n",
       "1054830                      NaN                    NaN   \n",
       "1054831                      NaN                    NaN   \n",
       "1054832                      NaN                    NaN   \n",
       "1054833                      NaN                    NaN   \n",
       "1054834                      NaN                    NaN   \n",
       "1054835                      NaN                    NaN   \n",
       "1054836                      NaN                    NaN   \n",
       "1054837                      NaN                    NaN   \n",
       "1054838                      NaN                    NaN   \n",
       "1054839                      NaN                    NaN   \n",
       "1054840                      NaN                    NaN   \n",
       "1054841                      NaN                    NaN   \n",
       "1054842                      NaN                    NaN   \n",
       "1054843                      NaN                    NaN   \n",
       "1054844                      NaN                    NaN   \n",
       "1054845                      NaN                    NaN   \n",
       "1054846                      NaN                    NaN   \n",
       "1054847                      NaN                    NaN   \n",
       "1054848                      NaN                    NaN   \n",
       "\n",
       "         dwi:lat_46.0:long_9.125  dwi:lat_46.0:long_9.25  \\\n",
       "1054824                      NaN                     NaN   \n",
       "1054825                      NaN                     NaN   \n",
       "1054826                      NaN                     NaN   \n",
       "1054827                      NaN                     NaN   \n",
       "1054828                      NaN                     NaN   \n",
       "1054829                      NaN                     NaN   \n",
       "1054830                      NaN                     NaN   \n",
       "1054831                      NaN                     NaN   \n",
       "1054832                      NaN                     NaN   \n",
       "1054833                      NaN                     NaN   \n",
       "1054834                      NaN                     NaN   \n",
       "1054835                      NaN                     NaN   \n",
       "1054836                      NaN                     NaN   \n",
       "1054837                      NaN                     NaN   \n",
       "1054838                      NaN                     NaN   \n",
       "1054839                      NaN                     NaN   \n",
       "1054840                      NaN                     NaN   \n",
       "1054841                      NaN                     NaN   \n",
       "1054842                      NaN                     NaN   \n",
       "1054843                      NaN                     NaN   \n",
       "1054844                      NaN                     NaN   \n",
       "1054845                      NaN                     NaN   \n",
       "1054846                      NaN                     NaN   \n",
       "1054847                      NaN                     NaN   \n",
       "1054848                      NaN                     NaN   \n",
       "\n",
       "         dwi:lat_46.0:long_9.375  dwi:lat_46.0:long_9.5  \n",
       "1054824                      NaN                    NaN  \n",
       "1054825                      NaN                    NaN  \n",
       "1054826                      NaN                    NaN  \n",
       "1054827                      NaN                    NaN  \n",
       "1054828                      NaN                    NaN  \n",
       "1054829                      NaN                    NaN  \n",
       "1054830                      NaN                    NaN  \n",
       "1054831                      NaN                    NaN  \n",
       "1054832                      NaN                    NaN  \n",
       "1054833                      NaN                    NaN  \n",
       "1054834                      NaN                    NaN  \n",
       "1054835                      NaN                    NaN  \n",
       "1054836                      NaN                    NaN  \n",
       "1054837                      NaN                    NaN  \n",
       "1054838                      NaN                    NaN  \n",
       "1054839                      NaN                    NaN  \n",
       "1054840                      NaN                    NaN  \n",
       "1054841                      NaN                    NaN  \n",
       "1054842                      NaN                    NaN  \n",
       "1054843                      NaN                    NaN  \n",
       "1054844                      NaN                    NaN  \n",
       "1054845                      NaN                    NaN  \n",
       "1054846                      NaN                    NaN  \n",
       "1054847                      NaN                    NaN  \n",
       "1054848                      NaN                    NaN  \n",
       "\n",
       "[25 rows x 4356 columns]"
      ]
     },
     "execution_count": 17,
     "metadata": {},
     "output_type": "execute_result"
    }
   ],
   "source": [
    "instance = TimeSeries('../Data/ECMWF/ECMWF_Monaco_20200502.nc')\n",
    "instance.df"
   ]
  },
  {
   "cell_type": "markdown",
   "metadata": {},
   "source": [
    "### Visualisation des séries temporelles (au point le plus proche de Monaco)"
   ]
  },
  {
   "cell_type": "code",
   "execution_count": 18,
   "metadata": {},
   "outputs": [
    {
     "data": {
      "image/png": "[encoded data removed]",
      "text/plain": [
       "<Figure size 432x288 with 1 Axes>"
      ]
     },
     "metadata": {
      "needs_background": "light"
     },
     "output_type": "display_data"
    }
   ],
   "source": [
    "instance.plotSeries('wind', 43.73, 7.43)"
   ]
  },
  {
   "cell_type": "code",
   "execution_count": 19,
   "metadata": {},
   "outputs": [
    {
     "data": {
      "image/png": "[encoded data removed]",
      "text/plain": [
       "<Figure size 432x288 with 1 Axes>"
      ]
     },
     "metadata": {
      "needs_background": "light"
     },
     "output_type": "display_data"
    }
   ],
   "source": [
    "instance.plotSeries('shww', 43.73, 7.43)"
   ]
  },
  {
   "cell_type": "code",
   "execution_count": 20,
   "metadata": {},
   "outputs": [
    {
     "data": {
      "image/png": "[encoded data removed]",
      "text/plain": [
       "<Figure size 432x288 with 1 Axes>"
      ]
     },
     "metadata": {
      "needs_background": "light"
     },
     "output_type": "display_data"
    }
   ],
   "source": [
    "instance.plotSeries('mpww', 43.73, 7.43)"
   ]
  },
  {
   "cell_type": "code",
   "execution_count": 21,
   "metadata": {},
   "outputs": [
    {
     "data": {
      "image/png": "[encoded data removed]",
      "text/plain": [
       "<Figure size 432x288 with 1 Axes>"
      ]
     },
     "metadata": {
      "needs_background": "light"
     },
     "output_type": "display_data"
    }
   ],
   "source": [
    "instance.plotSeries('dwi', 43.73, 7.43)"
   ]
  },
  {
   "cell_type": "markdown",
   "metadata": {},
   "source": [
    "### Représentation géographique"
   ]
  },
  {
   "cell_type": "code",
   "execution_count": 22,
   "metadata": {},
   "outputs": [],
   "source": [
    "class GeoSeries(GeoTimeSeries):\n",
    "\n",
    "    def __init__(self, path):\n",
    "        super().__init__(path)\n",
    "\n",
    "    def plotFeature(self, featName, t):\n",
    "        lat = self.dataset['latitude'][:]\n",
    "        long = self.dataset['longitude'][:]\n",
    "        X, Y = np.meshgrid(long, lat)\n",
    "        Z = self.dataset[featName][t, :, :]\n",
    "        plt.pcolor(X, Y, Z, shading='auto')\n",
    "        plt.xlabel('Longitude')\n",
    "        plt.ylabel('Latitude')\n",
    "        plt.colorbar()\n",
    "        monacoLoc = (43 + 43/60 + 50/3600, 7 + 25/60 + 31/3600)\n",
    "        plt.scatter([monacoLoc[1]], [monacoLoc[0]], c='tab:red', label='Monaco')\n",
    "        plt.legend()\n"
   ]
  },
  {
   "cell_type": "code",
   "execution_count": 23,
   "metadata": {},
   "outputs": [
    {
     "data": {
      "text/plain": [
       "Text(0.5, 1.0, 'Zone correspondante')"
      ]
     },
     "execution_count": 23,
     "metadata": {},
     "output_type": "execute_result"
    },
    {
     "data": {
      "image/png": "[encoded data removed]",
      "text/plain": [
       "<Figure size 432x288 with 2 Axes>"
      ]
     },
     "metadata": {
      "needs_background": "light"
     },
     "output_type": "display_data"
    },
    {
     "data": {
      "image/png": "[encoded data removed]",
      "text/plain": [
       "<Figure size 432x288 with 1 Axes>"
      ]
     },
     "metadata": {
      "needs_background": "light"
     },
     "output_type": "display_data"
    }
   ],
   "source": [
    "instance = GeoSeries('../Data/ECMWF/ECMWF_Monaco_20200502.nc')\n",
    "instance.plotFeature('wind', 0)\n",
    "plt.figure()\n",
    "plt.imshow(plt.imread('./area.png'))\n",
    "plt.title('Zone correspondante')"
   ]
  },
  {
   "cell_type": "markdown",
   "metadata": {},
   "source": [
    "### Visualisation des cartes en fonction du temps"
   ]
  },
  {
   "cell_type": "code",
   "execution_count": 24,
   "metadata": {},
   "outputs": [],
   "source": [
    "from ipywidgets import interact, fixed\n",
    "import ipywidgets as widgets"
   ]
  },
  {
   "cell_type": "code",
   "execution_count": 25,
   "metadata": {},
   "outputs": [
    {
     "data": {
      "application/vnd.jupyter.widget-view+json": {
       "model_id": "806841c220af4128b066aebf9b2ee0a3",
       "version_major": 2,
       "version_minor": 0
      },
      "text/plain": [
       "interactive(children=(IntSlider(value=0, description='t', max=24), Output()), _dom_classes=('widget-interact',…"
      ]
     },
     "metadata": {},
     "output_type": "display_data"
    },
    {
     "data": {
      "text/plain": [
       "<function ipywidgets.widgets.interaction._InteractFactory.__call__.<locals>.<lambda>(*args, **kwargs)>"
      ]
     },
     "execution_count": 25,
     "metadata": {},
     "output_type": "execute_result"
    }
   ],
   "source": [
    "interact(\n",
    "    instance.plotFeature,\n",
    "    featName=fixed('wind'),\n",
    "    t=widgets.IntSlider(min=0, max=24, step=1, value=0)\n",
    ")"
   ]
  },
  {
   "cell_type": "code",
   "execution_count": 26,
   "metadata": {},
   "outputs": [
    {
     "data": {
      "application/vnd.jupyter.widget-view+json": {
       "model_id": "680078c169f84f1cab96acd76e59e774",
       "version_major": 2,
       "version_minor": 0
      },
      "text/plain": [
       "interactive(children=(IntSlider(value=0, description='t', max=24), Output()), _dom_classes=('widget-interact',…"
      ]
     },
     "metadata": {},
     "output_type": "display_data"
    },
    {
     "data": {
      "text/plain": [
       "<function ipywidgets.widgets.interaction._InteractFactory.__call__.<locals>.<lambda>(*args, **kwargs)>"
      ]
     },
     "execution_count": 26,
     "metadata": {},
     "output_type": "execute_result"
    }
   ],
   "source": [
    "interact(\n",
    "    instance.plotFeature,\n",
    "    featName=fixed('shww'),\n",
    "    t=widgets.IntSlider(min=0, max=24, step=1, value=0)\n",
    ")"
   ]
  },
  {
   "cell_type": "code",
   "execution_count": 27,
   "metadata": {},
   "outputs": [
    {
     "data": {
      "application/vnd.jupyter.widget-view+json": {
       "model_id": "d691c73c847c4280aa2ebaccfea09bcb",
       "version_major": 2,
       "version_minor": 0
      },
      "text/plain": [
       "interactive(children=(IntSlider(value=0, description='t', max=24), Output()), _dom_classes=('widget-interact',…"
      ]
     },
     "metadata": {},
     "output_type": "display_data"
    },
    {
     "data": {
      "text/plain": [
       "<function ipywidgets.widgets.interaction._InteractFactory.__call__.<locals>.<lambda>(*args, **kwargs)>"
      ]
     },
     "execution_count": 27,
     "metadata": {},
     "output_type": "execute_result"
    }
   ],
   "source": [
    "interact(\n",
    "    instance.plotFeature,\n",
    "    featName=fixed('mpww'),\n",
    "    t=widgets.IntSlider(min=0, max=24, step=1, value=0)\n",
    ")"
   ]
  },
  {
   "cell_type": "code",
   "execution_count": 28,
   "metadata": {},
   "outputs": [
    {
     "data": {
      "application/vnd.jupyter.widget-view+json": {
       "model_id": "c4bde8b820a741cca49f30b1609cdf63",
       "version_major": 2,
       "version_minor": 0
      },
      "text/plain": [
       "interactive(children=(IntSlider(value=0, description='t', max=24), Output()), _dom_classes=('widget-interact',…"
      ]
     },
     "metadata": {},
     "output_type": "display_data"
    },
    {
     "data": {
      "text/plain": [
       "<function ipywidgets.widgets.interaction._InteractFactory.__call__.<locals>.<lambda>(*args, **kwargs)>"
      ]
     },
     "execution_count": 28,
     "metadata": {},
     "output_type": "execute_result"
    }
   ],
   "source": [
    "interact(\n",
    "    instance.plotFeature,\n",
    "    featName=fixed('dwi'),\n",
    "    t=widgets.IntSlider(min=0, max=24, step=1, value=0)\n",
    ")"
   ]
  },
  {
   "cell_type": "code",
   "execution_count": null,
   "metadata": {},
   "outputs": [],
   "source": []
  }
 ],
 "metadata": {
  "interpreter": {
   "hash": "5a410b2a8b053da20c237605d5af3a59f3df5682f766269e37d1c2f3d5088cf0"
  },
  "kernelspec": {
   "display_name": "Python 3.8.3 64-bit ('base': conda)",
   "language": "python",
   "name": "python3"
  },
  "language_info": {
   "codemirror_mode": {
    "name": "ipython",
    "version": 3
   },
   "file_extension": ".py",
   "mimetype": "text/x-python",
   "name": "python",
   "nbconvert_exporter": "python",
   "pygments_lexer": "ipython3",
   "version": "3.8.3"
  },
  "orig_nbformat": 4
 },
 "nbformat": 4,
 "nbformat_minor": 2
}
